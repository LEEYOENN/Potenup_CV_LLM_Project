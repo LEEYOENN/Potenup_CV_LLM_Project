{
 "cells": [
  {
   "cell_type": "code",
   "execution_count": 8,
   "id": "4c2a4d58",
   "metadata": {},
   "outputs": [],
   "source": [
    "import re\n",
    "import pandas as pd\n",
    "from konlpy.tag import Okt\n",
    "import json\n",
    "from moviepy import VideoFileClip, CompositeVideoClip\n",
    "from moviepy.video.VideoClip import ImageClip\n",
    "import numpy as np\n",
    "from PIL import Image"
   ]
  },
  {
   "cell_type": "code",
   "execution_count": 9,
   "id": "042013f0",
   "metadata": {},
   "outputs": [
    {
     "data": {
      "text/html": [
       "<div>\n",
       "<style scoped>\n",
       "    .dataframe tbody tr th:only-of-type {\n",
       "        vertical-align: middle;\n",
       "    }\n",
       "\n",
       "    .dataframe tbody tr th {\n",
       "        vertical-align: top;\n",
       "    }\n",
       "\n",
       "    .dataframe thead th {\n",
       "        text-align: right;\n",
       "    }\n",
       "</style>\n",
       "<table border=\"1\" class=\"dataframe\">\n",
       "  <thead>\n",
       "    <tr style=\"text-align: right;\">\n",
       "      <th></th>\n",
       "      <th>id</th>\n",
       "      <th>start</th>\n",
       "      <th>end</th>\n",
       "      <th>text</th>\n",
       "    </tr>\n",
       "  </thead>\n",
       "  <tbody>\n",
       "    <tr>\n",
       "      <th>0</th>\n",
       "      <td>b01354b8-2932-4256-8292-fc0b54824a90</td>\n",
       "      <td>00:00:00</td>\n",
       "      <td>00:00:02</td>\n",
       "      <td>잘 입을 수 있는 그런 자켓인 것 같고</td>\n",
       "    </tr>\n",
       "    <tr>\n",
       "      <th>1</th>\n",
       "      <td>b80da18b-3bd4-4126-862c-8e61f8292f83</td>\n",
       "      <td>00:00:02</td>\n",
       "      <td>00:00:03</td>\n",
       "      <td>계절 걱정 많이 하셨잖아요</td>\n",
       "    </tr>\n",
       "    <tr>\n",
       "      <th>2</th>\n",
       "      <td>92144837-f1b3-47c5-9cd5-fef220b83400</td>\n",
       "      <td>00:00:03</td>\n",
       "      <td>00:00:08</td>\n",
       "      <td>가죽 자켓이나 특히 청자켓 가죽 자켓은 잠깐 입고</td>\n",
       "    </tr>\n",
       "  </tbody>\n",
       "</table>\n",
       "</div>"
      ],
      "text/plain": [
       "                                     id      start        end  \\\n",
       "0  b01354b8-2932-4256-8292-fc0b54824a90   00:00:00   00:00:02   \n",
       "1  b80da18b-3bd4-4126-862c-8e61f8292f83   00:00:02   00:00:03   \n",
       "2  92144837-f1b3-47c5-9cd5-fef220b83400   00:00:03   00:00:08   \n",
       "\n",
       "                           text  \n",
       "0         잘 입을 수 있는 그런 자켓인 것 같고  \n",
       "1                계절 걱정 많이 하셨잖아요  \n",
       "2   가죽 자켓이나 특히 청자켓 가죽 자켓은 잠깐 입고  "
      ]
     },
     "execution_count": 9,
     "metadata": {},
     "output_type": "execute_result"
    }
   ],
   "source": [
    "# 검색 키워드들(== 등록된 상품명들)\n",
    "# TODO 추후 redis로 옮기는 것 고려\n",
    "registered_goods = [\n",
    "    '가죽 자켓', '청자켓', '후드', '맥코트', '신발', '바지', '선글라스', '(메시)니트', '반팔티', '이너', '아우터', \n",
    "    '데님 자켓', '데님 팬츠', '데님 트러커', '자켓', '워크자켓', '아디다스 저지', '아디다스 트랙탑', '스카프', '토니웩', '모모타로진'\n",
    "]\n",
    "\n",
    "# Okt 객체 생성\n",
    "okt = Okt()\n",
    "df = pd.read_csv('../../data/csv/36dc8bba-c0ae-475c-8402-04a1d716b647.csv', header=None, names=[\"id\", \"start\", \"end\", \"text\"])\n",
    "\n",
    "df.head()"
   ]
  },
  {
   "cell_type": "code",
   "execution_count": 10,
   "id": "3dc07db0",
   "metadata": {},
   "outputs": [
    {
     "data": {
      "text/html": [
       "<div>\n",
       "<style scoped>\n",
       "    .dataframe tbody tr th:only-of-type {\n",
       "        vertical-align: middle;\n",
       "    }\n",
       "\n",
       "    .dataframe tbody tr th {\n",
       "        vertical-align: top;\n",
       "    }\n",
       "\n",
       "    .dataframe thead th {\n",
       "        text-align: right;\n",
       "    }\n",
       "</style>\n",
       "<table border=\"1\" class=\"dataframe\">\n",
       "  <thead>\n",
       "    <tr style=\"text-align: right;\">\n",
       "      <th></th>\n",
       "      <th>id</th>\n",
       "      <th>start</th>\n",
       "      <th>end</th>\n",
       "      <th>text</th>\n",
       "      <th>matched_keywords</th>\n",
       "    </tr>\n",
       "  </thead>\n",
       "  <tbody>\n",
       "    <tr>\n",
       "      <th>0</th>\n",
       "      <td>b01354b8-2932-4256-8292-fc0b54824a90</td>\n",
       "      <td>00:00:00</td>\n",
       "      <td>00:00:02</td>\n",
       "      <td>잘 입을 수 있는 그런 자켓인 것 같고</td>\n",
       "      <td>[자켓]</td>\n",
       "    </tr>\n",
       "    <tr>\n",
       "      <th>1</th>\n",
       "      <td>b80da18b-3bd4-4126-862c-8e61f8292f83</td>\n",
       "      <td>00:00:02</td>\n",
       "      <td>00:00:03</td>\n",
       "      <td>계절 걱정 많이 하셨잖아요</td>\n",
       "      <td>[]</td>\n",
       "    </tr>\n",
       "    <tr>\n",
       "      <th>2</th>\n",
       "      <td>92144837-f1b3-47c5-9cd5-fef220b83400</td>\n",
       "      <td>00:00:03</td>\n",
       "      <td>00:00:08</td>\n",
       "      <td>가죽 자켓이나 특히 청자켓 가죽 자켓은 잠깐 입고</td>\n",
       "      <td>[청자켓, 가죽 자켓]</td>\n",
       "    </tr>\n",
       "  </tbody>\n",
       "</table>\n",
       "</div>"
      ],
      "text/plain": [
       "                                     id      start        end  \\\n",
       "0  b01354b8-2932-4256-8292-fc0b54824a90   00:00:00   00:00:02   \n",
       "1  b80da18b-3bd4-4126-862c-8e61f8292f83   00:00:02   00:00:03   \n",
       "2  92144837-f1b3-47c5-9cd5-fef220b83400   00:00:03   00:00:08   \n",
       "\n",
       "                           text matched_keywords  \n",
       "0         잘 입을 수 있는 그런 자켓인 것 같고             [자켓]  \n",
       "1                계절 걱정 많이 하셨잖아요               []  \n",
       "2   가죽 자켓이나 특히 청자켓 가죽 자켓은 잠깐 입고     [청자켓, 가죽 자켓]  "
      ]
     },
     "execution_count": 10,
     "metadata": {},
     "output_type": "execute_result"
    }
   ],
   "source": [
    "# TODO 중복으로 등장하는 키워드가 있는 경우 처음 시간대만 체크하는 것 고려\n",
    "# TODO 해당 코드 이해\n",
    "normalized_patterns = [\n",
    "    re.escape(item).replace(r\"\\ \", r\"\\s*\") for item in registered_goods # 공백이 있든 없든 탐지(가죽 자켓 / 가죽자켓)\n",
    "]\n",
    "\n",
    "pattern = re.compile(\"|\".join(normalized_patterns))\n",
    "\n",
    "# 매칭된 키워드 리스트를 새로운 컬럼으로 추가\n",
    "df[\"matched_keywords\"] = (\n",
    "    df[\"text\"]\n",
    "    .str.findall(pattern)\n",
    "    .map(set)   # set으로 변환 → 중복 제거\n",
    "    .map(list)  \n",
    ")\n",
    "\n",
    "df"
   ]
  },
  {
   "cell_type": "code",
   "execution_count": 11,
   "id": "108fcce6",
   "metadata": {},
   "outputs": [
    {
     "name": "stdout",
     "output_type": "stream",
     "text": [
      "                                     id      start        end  \\\n",
      "0  b01354b8-2932-4256-8292-fc0b54824a90   00:00:00   00:00:02   \n",
      "2  92144837-f1b3-47c5-9cd5-fef220b83400   00:00:03   00:00:08   \n",
      "\n",
      "                           text matched_keywords  \n",
      "0         잘 입을 수 있는 그런 자켓인 것 같고             [자켓]  \n",
      "2   가죽 자켓이나 특히 청자켓 가죽 자켓은 잠깐 입고     [청자켓, 가죽 자켓]  \n"
     ]
    }
   ],
   "source": [
    "# 매칭된 게 있는 row만 추출\n",
    "matched_df = df[df[\"matched_keywords\"].str.len() > 0]\n",
    "\n",
    "print(matched_df)"
   ]
  },
  {
   "cell_type": "code",
   "execution_count": 12,
   "id": "4d2bdb0b",
   "metadata": {},
   "outputs": [],
   "source": [
    "def resize_array(img: np.ndarray, width=None, height=None):\n",
    "    pil_img = Image.fromarray(img)\n",
    "    if width and height:\n",
    "        new_img = pil_img.resize((width, height))\n",
    "    elif width:\n",
    "        # 비율 유지\n",
    "        h = int(pil_img.height * width / pil_img.width)\n",
    "        new_img = pil_img.resize((width, h))\n",
    "    elif height:\n",
    "        w = int(pil_img.width * height / pil_img.height)\n",
    "        new_img = pil_img.resize((w, height))\n",
    "    else:\n",
    "        new_img = pil_img\n",
    "    return np.array(new_img)"
   ]
  },
  {
   "cell_type": "code",
   "execution_count": null,
   "id": "6cc32c0c",
   "metadata": {},
   "outputs": [
    {
     "name": "stdout",
     "output_type": "stream",
     "text": [
      "MoviePy - Building video output.mp4.\n",
      "MoviePy - Writing audio in outputTEMP_MPY_wvf_snd.mp4\n"
     ]
    },
    {
     "name": "stderr",
     "output_type": "stream",
     "text": [
      "                                                                   \r"
     ]
    },
    {
     "name": "stdout",
     "output_type": "stream",
     "text": [
      "MoviePy - Done.\n",
      "MoviePy - Writing video output.mp4\n",
      "\n"
     ]
    },
    {
     "name": "stderr",
     "output_type": "stream",
     "text": [
      "                                                                        \r"
     ]
    },
    {
     "name": "stdout",
     "output_type": "stream",
     "text": [
      "MoviePy - Done !\n",
      "MoviePy - video ready output.mp4\n",
      "id                  92144837-f1b3-47c5-9cd5-fef220b83400\n",
      "start                                           00:00:03\n",
      "end                                             00:00:08\n",
      "text                         가죽 자켓이나 특히 청자켓 가죽 자켓은 잠깐 입고\n",
      "matched_keywords                            [청자켓, 가죽 자켓]\n",
      "Name: 2, dtype: object\n",
      "{'id': '57eea140-71dc-4915-b8f2-b617fdbf40d9', 'image_path': '../../data/image/leather_jacket_total_3.jpg', 'link': 'https://noirlarmes.com/m-leather/?idx=1209&srsltid=AfmBOoprDztmtZhGrxB1T1wK0qTy1rKL9sZ5mnheE0i3xi7F6eb06yqJ'}\n"
     ]
    }
   ],
   "source": [
    "with open('../../data/json/fashion.json', 'r', encoding='utf-8') as f:\n",
    "    keyword_map = json.load(f)\n",
    "    \n",
    "for _, row in matched_df.iterrows():\n",
    "    for keyword in row['matched_keywords']:\n",
    "        if keyword in keyword_map.keys():\n",
    "            goods_info = keyword_map[keyword]\n",
    "            \n",
    "            video = VideoFileClip(\"../../data/video/36dc8bba-c0ae-475c-8402-04a1d716b647.mp4\")\n",
    "\n",
    "            # TODO 상품 이미지가 나오는 공간을 YOLO나 SAM으로 파악하여 빈공간에 나올 수 있도록 수정\n",
    "            img = (\n",
    "                ImageClip(goods_info['image_path'], duration=5)           \n",
    "                    .with_start(3)\n",
    "                    .with_position((0.7, 0.05), relative=True)\n",
    "            )\n",
    "\n",
    "            # 영상 + 이미지 합성\n",
    "            final = CompositeVideoClip([video, img])\n",
    "\n",
    "            # 저장\n",
    "            final.write_videofile(\"output.mp4\", codec=\"libx264\", audio_codec=\"aac\")\n",
    "            \n",
    "            print(row)\n",
    "            print(goods_info)"
   ]
  }
 ],
 "metadata": {
  "kernelspec": {
   "display_name": "potenup-cv-llm-project",
   "language": "python",
   "name": "python3"
  },
  "language_info": {
   "codemirror_mode": {
    "name": "ipython",
    "version": 3
   },
   "file_extension": ".py",
   "mimetype": "text/x-python",
   "name": "python",
   "nbconvert_exporter": "python",
   "pygments_lexer": "ipython3",
   "version": "3.10.18"
  }
 },
 "nbformat": 4,
 "nbformat_minor": 5
}
