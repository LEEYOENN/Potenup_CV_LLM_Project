{
 "cells": [
  {
   "cell_type": "code",
   "execution_count": 1,
   "id": "6b729d88",
   "metadata": {},
   "outputs": [],
   "source": [
    "# curl \"https://generativelanguage.googleapis.com/v1beta/models/gemini-2.0-flash:generateContent\" \\\n",
    "#   -H 'Content-Type: application/json' \\\n",
    "#   -H 'X-goog-api-key: GEMINI_API_KEY' \\\n",
    "#   -X POST \\\n",
    "#   -d '{\n",
    "#     \"contents\": [\n",
    "#       {\n",
    "#         \"parts\": [\n",
    "#           {\n",
    "#             \"text\": \"Explain how AI works in a few words\"\n",
    "#           }\n",
    "#         ]\n",
    "#       }\n",
    "#     ]\n",
    "#   }'"
   ]
  },
  {
   "cell_type": "code",
   "execution_count": null,
   "id": "cc1be23f",
   "metadata": {},
   "outputs": [],
   "source": [
    "import requests\n",
    "from dotenv import load_dotenv\n",
    "import os\n",
    "\n",
    "load_dotenv()\n",
    "\n",
    "client = os.getenv(\"GOOGLE_AI_STUDIO_API_KEY\")\n",
    "request_url = \"https://generativelanguage.googleapis.com/v1beta/models/gemini-2.0-flash:generateContent\"\n",
    "headers = {\n",
    "    'Content-Type': 'application/json',\n",
    "    'X-goog-api-key': client\n",
    "}\n",
    "data = {\n",
    "    \"contents\": [\n",
    "        {\n",
    "            \"parts\": [\n",
    "                {\n",
    "                    \"text\": \"Explain how AI works in a few words\"\n",
    "                }\n",
    "            ]\n",
    "        }\n",
    "    ]\n",
    "}"
   ]
  },
  {
   "cell_type": "code",
   "execution_count": 3,
   "id": "1fc7f359",
   "metadata": {},
   "outputs": [
    {
     "name": "stdout",
     "output_type": "stream",
     "text": [
      "{'error': {'code': 400, 'message': 'API key not valid. Please pass a valid API key.', 'status': 'INVALID_ARGUMENT', 'details': [{'@type': 'type.googleapis.com/google.rpc.ErrorInfo', 'reason': 'API_KEY_INVALID', 'domain': 'googleapis.com', 'metadata': {'service': 'generativelanguage.googleapis.com'}}, {'@type': 'type.googleapis.com/google.rpc.LocalizedMessage', 'locale': 'en-US', 'message': 'API key not valid. Please pass a valid API key.'}]}}\n"
     ]
    }
   ],
   "source": [
    "response = requests.post(request_url, headers=headers, json=data)\n",
    "print(response.json())"
   ]
  }
 ],
 "metadata": {
  "kernelspec": {
   "display_name": "Potenup_CV_LLM_Project (3.10.18)",
   "language": "python",
   "name": "python3"
  },
  "language_info": {
   "codemirror_mode": {
    "name": "ipython",
    "version": 3
   },
   "file_extension": ".py",
   "mimetype": "text/x-python",
   "name": "python",
   "nbconvert_exporter": "python",
   "pygments_lexer": "ipython3",
   "version": "3.10.18"
  }
 },
 "nbformat": 4,
 "nbformat_minor": 5
}
