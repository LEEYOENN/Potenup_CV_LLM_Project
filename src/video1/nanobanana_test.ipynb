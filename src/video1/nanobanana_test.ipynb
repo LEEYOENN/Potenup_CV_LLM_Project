{
 "cells": [
  {
   "cell_type": "code",
   "execution_count": 1,
   "id": "6b729d88",
   "metadata": {},
   "outputs": [],
   "source": [
    "# curl \"https://generativelanguage.googleapis.com/v1beta/models/gemini-2.0-flash:generateContent\" \\\n",
    "#   -H 'Content-Type: application/json' \\\n",
    "#   -H 'X-goog-api-key: GEMINI_API_KEY' \\\n",
    "#   -X POST \\\n",
    "#   -d '{\n",
    "#     \"contents\": [\n",
    "#       {\n",
    "#         \"parts\": [\n",
    "#           {\n",
    "#             \"text\": \"Explain how AI works in a few words\"\n",
    "#           }\n",
    "#         ]\n",
    "#       }\n",
    "#     ]\n",
    "#   }'"
   ]
  },
  {
   "cell_type": "markdown",
   "id": "8c5e8898",
   "metadata": {},
   "source": [
    "API KEY 테스트"
   ]
  },
  {
   "cell_type": "code",
   "execution_count": 11,
   "id": "cc1be23f",
   "metadata": {},
   "outputs": [],
   "source": [
    "import requests\n",
    "from dotenv import load_dotenv\n",
    "import os\n",
    "\n",
    "load_dotenv()\n",
    "\n",
    "client = os.getenv(\"GOOGLE_AI_API_KEY\")\n",
    "request_url = \"https://generativelanguage.googleapis.com/v1beta/models/gemini-2.0-flash:generateContent\"\n",
    "headers = {\n",
    "    'Content-Type': 'application/json',\n",
    "    'X-goog-api-key': client\n",
    "}\n",
    "data = {\n",
    "    \"contents\": [\n",
    "        {\n",
    "            \"parts\": [\n",
    "                {\n",
    "                    \"text\": \"Explain how AI works in a few words\"\n",
    "                }\n",
    "            ]\n",
    "        }\n",
    "    ]\n",
    "}"
   ]
  },
  {
   "cell_type": "code",
   "execution_count": 3,
   "id": "1fc7f359",
   "metadata": {},
   "outputs": [
    {
     "name": "stdout",
     "output_type": "stream",
     "text": [
      "{'candidates': [{'content': {'parts': [{'text': 'AI learns from data to make predictions or decisions.\\n'}], 'role': 'model'}, 'finishReason': 'STOP', 'avgLogprobs': -0.09420799125324596}], 'usageMetadata': {'promptTokenCount': 8, 'candidatesTokenCount': 11, 'totalTokenCount': 19, 'promptTokensDetails': [{'modality': 'TEXT', 'tokenCount': 8}], 'candidatesTokensDetails': [{'modality': 'TEXT', 'tokenCount': 11}]}, 'modelVersion': 'gemini-2.0-flash', 'responseId': 'nk3JaJu7O7qmqtsPlYHO0A8'}\n"
     ]
    }
   ],
   "source": [
    "response = requests.post(request_url, headers=headers, json=data)\n",
    "print(response.json())"
   ]
  },
  {
   "cell_type": "markdown",
   "id": "4ac4bdff",
   "metadata": {},
   "source": [
    "NANO BANANA 로 광고 이미지 생성 테스트"
   ]
  },
  {
   "cell_type": "code",
   "execution_count": null,
   "id": "30f3107c",
   "metadata": {},
   "outputs": [],
   "source": [
    "from google import genai\n",
    "from google.genai import types\n",
    "from PIL import Image\n",
    "from io import BytesIO\n",
    "\n",
    "keyword = \"handcream\"\n",
    "client = genai.Client(api_key=os.getenv(\"GOOGLE_AI_API_KEY\"))\n",
    "prompt = (\n",
    "    f\"After picking this {keyword} object, \"\n",
    "    \"make it a good commercial image\",\n",
    ")\n",
    "\n",
    "image = Image.open(\"../../data/ad_images/handcream.png\")\n",
    "try:\n",
    "    response = client.models.generate_content(\n",
    "        model=\"gemini-2.5-flash-image-preview\",\n",
    "        contents=[prompt, image],\n",
    "    )\n",
    "except Exception as e:\n",
    "    print(e)\n",
    "\n",
    "for part in response.candidates[0].content.parts:\n",
    "    if part.text is not None:\n",
    "        print(part.text)\n",
    "    elif part.inline_data is not None:\n",
    "        image = Image.open(BytesIO(part.inline_data.data))\n",
    "        image.save(\"generated_image.png\")"
   ]
  },
  {
   "cell_type": "code",
   "execution_count": null,
   "id": "72d654ce",
   "metadata": {},
   "outputs": [],
   "source": [
    "from google import genai\n",
    "from google.genai import types\n",
    "from PIL import Image\n",
    "from io import BytesIO\n",
    "import uuid\n",
    "import os\n",
    "\n",
    "keyword = \"handcream\"\n",
    "client = genai.Client(api_key=os.getenv(\"GOOGLE_AI_API_KEY\"))\n",
    "prompt = (\n",
    "    f\"After picking this {keyword} object, \"\n",
    "    \"make it a good commercial image.\",\n",
    ")\n",
    "\n",
    "image = Image.open(\"C:/Users/user/potenup/sep_project/Potenup_CV_LLM_Project/data/ad_images/handcream.png\")\n",
    "try:\n",
    "    response = client.models.generate_content(\n",
    "        model=\"gemini-2.5-flash-image-preview\",\n",
    "        contents=[prompt, image],\n",
    "    )\n",
    "except Exception as e:\n",
    "    print(e)"
   ]
  },
  {
   "cell_type": "code",
   "execution_count": 8,
   "id": "842da40c",
   "metadata": {},
   "outputs": [
    {
     "name": "stdout",
     "output_type": "stream",
     "text": [
      "Here's a commercial image for the hand cream! \n",
      "새로운 데이터가 '../../data/json/ad_data.json' 파일에 추가되었습니다.\n"
     ]
    }
   ],
   "source": [
    "import json\n",
    "\n",
    "save_image_path = f\"../../data/ad_images/{keyword}_{str(uuid.uuid4())}.png\"\n",
    "\n",
    "for part in response.candidates[0].content.parts:\n",
    "    if part.text is not None:\n",
    "        print(part.text)\n",
    "    elif part.inline_data is not None:\n",
    "        image = Image.open(BytesIO(part.inline_data.data))\n",
    "        image.save(save_image_path)\n",
    "\n",
    "        ### 이미지와 광고 데이터를 json에 저장\n",
    "        # 1. 파일 경로 설정\n",
    "        json_file_path = \"../../data/json/ad_data.json\"\n",
    "\n",
    "        # 2. 기존 json 데이터 읽기(파일이 없으면 빈 리스트로 초기화)\n",
    "        try:\n",
    "            with open(json_file_path, 'r', encoding=\"utf-8\") as f:\n",
    "                data = json.load(f)\n",
    "        except (FileNotFoundError, json.JSONDecodeError):\n",
    "            data = []\n",
    "        \n",
    "        # 3. 새로운 데이터 객체 생성\n",
    "        new_entity = {\n",
    "            \"id\": len(data) + 1,\n",
    "            \"company\": \"핸드 포메이드\",\n",
    "            \"product\": \"핸드 크림\",\n",
    "            \"category\": \"handcream\",\n",
    "            \"image_path\": save_image_path\n",
    "        }\n",
    "\n",
    "        data.append(new_entity)\n",
    "\n",
    "        # 5. 변경된 데이터를 json 파일에 쓰기\n",
    "        with open(json_file_path, \"w\", encoding=\"utf-8\") as f:\n",
    "            json.dump(data, f, indent=4, ensure_ascii=False)\n",
    "        \n",
    "        print(f\"새로운 데이터가 '{json_file_path}' 파일에 추가되었습니다.\")"
   ]
  },
  {
   "cell_type": "code",
   "execution_count": null,
   "id": "a51bf607",
   "metadata": {},
   "outputs": [
    {
     "name": "stdout",
     "output_type": "stream",
     "text": [
      "42ca911e-a443-4e1b-b6aa-32b93524b8e7\n"
     ]
    }
   ],
   "source": []
  }
 ],
 "metadata": {
  "kernelspec": {
   "display_name": "Potenup_CV_LLM_Project (3.10.18)",
   "language": "python",
   "name": "python3"
  },
  "language_info": {
   "codemirror_mode": {
    "name": "ipython",
    "version": 3
   },
   "file_extension": ".py",
   "mimetype": "text/x-python",
   "name": "python",
   "nbconvert_exporter": "python",
   "pygments_lexer": "ipython3",
   "version": "3.10.18"
  }
 },
 "nbformat": 4,
 "nbformat_minor": 5
}
